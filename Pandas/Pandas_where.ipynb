{
  "nbformat": 4,
  "nbformat_minor": 0,
  "metadata": {
    "colab": {
      "name": "Pandas_where.ipynb",
      "provenance": [],
      "authorship_tag": "ABX9TyNGm1o3GPX8rDNrqM9Rs/bc"
    },
    "kernelspec": {
      "name": "python3",
      "display_name": "Python 3"
    }
  },
  "cells": [
    {
      "cell_type": "markdown",
      "metadata": {
        "id": "GwArVN49QoLL"
      },
      "source": [
        "Pandas dataframe.where 문법\n",
        "- 조건식을 입력받고, 조건식에 대한 True의 데이터를 출력\n",
        "- Series나 DataFrame과 일치하는 데이터 출력\n"
      ]
    },
    {
      "cell_type": "markdown",
      "metadata": {
        "id": "XoAdsUd-Qx2O"
      },
      "source": [
        "Series.where(cond,other=None,inplcae=False,axis=None)\n",
        "\n",
        "DataFrame.where(cond,other=None,inplcae=False,axis=None)\n",
        "\n",
        "- cond 조건문을 입력받는 부분(TF array를 입력해도 상관없음)\n",
        "- other는 조건식이 만족되지 않을 경우 채울 값을 입력 받음."
      ]
    },
    {
      "cell_type": "markdown",
      "metadata": {
        "id": "4EdvUGQYRfC3"
      },
      "source": [
        "---"
      ]
    },
    {
      "cell_type": "markdown",
      "metadata": {
        "id": "WKrPVqeGTj2m"
      },
      "source": [
        "#### 일반적으로 데이터에 접근하는 방식인 대괄호[조건식] 대신, where 메서드간의 다른 점\n",
        " "
      ]
    },
    {
      "cell_type": "code",
      "metadata": {
        "id": "eUZfqA_Na9rR"
      },
      "source": [
        "import pandas as pd\n",
        "df=pd.DataFrame({'a':[1,2,3,4,5],\n",
        "                 'b':[1,1,1,1,1]})\n",
        "ser = df['a']"
      ],
      "execution_count": null,
      "outputs": []
    },
    {
      "cell_type": "markdown",
      "metadata": {
        "id": "eSDgWXpUa6or"
      },
      "source": [
        "1. Series에서 적용 시\n",
        " - 대괄호[조건식]은 조건식이 True가 되는 결과만 출력\n",
        " - where 메서드는 조건식이 False가 되면 other에 입력된 값을 출력하거나 NaN을 출력하며 기존 배열과 형상을 맞춤."
      ]
    },
    {
      "cell_type": "code",
      "metadata": {
        "colab": {
          "base_uri": "https://localhost:8080/"
        },
        "id": "NetWtvWMa8Eg",
        "outputId": "06e7567e-7b22-4252-c525-917438e8ba55"
      },
      "source": [
        "# 대괄호[조건식]은 조건식이 True가 되는 결과만 출력\n",
        "ser[ser==1]"
      ],
      "execution_count": null,
      "outputs": [
        {
          "output_type": "execute_result",
          "data": {
            "text/plain": [
              "0    1\n",
              "Name: a, dtype: int64"
            ]
          },
          "metadata": {
            "tags": []
          },
          "execution_count": 16
        }
      ]
    },
    {
      "cell_type": "code",
      "metadata": {
        "colab": {
          "base_uri": "https://localhost:8080/"
        },
        "id": "qHgFV1skbK4f",
        "outputId": "fa500ad2-1b61-4f03-a0f7-76fc03691ae8"
      },
      "source": [
        "# where 메서드는 조건식이 False가 되면 other에 입력된 값을 출력하거나 NaN을 출력하며 기존 배열과 형상을 맞춤.\n",
        "ser.where(ser==1)"
      ],
      "execution_count": null,
      "outputs": [
        {
          "output_type": "execute_result",
          "data": {
            "text/plain": [
              "0    1.0\n",
              "1    NaN\n",
              "2    NaN\n",
              "3    NaN\n",
              "4    NaN\n",
              "Name: a, dtype: float64"
            ]
          },
          "metadata": {
            "tags": []
          },
          "execution_count": 17
        }
      ]
    },
    {
      "cell_type": "markdown",
      "metadata": {
        "id": "ol7zUaAma4mw"
      },
      "source": [
        "2. DataFrame에서 적용 시\n",
        " - 조건식의 결과가 False  일 때, 대괄호[조건식]은 NaN값을 넣고 DataFrame을 출력함.\n",
        " - 조건식의 결과가 False일 때, where 메서드는 기본값으로 NaB값을 넣고 DataFrame을 출력하지만, other 변수에 값을 입력함으로써 사용자가 원하는 값이 넣어진 DataFrame을 출력할 수 있다."
      ]
    },
    {
      "cell_type": "code",
      "metadata": {
        "colab": {
          "base_uri": "https://localhost:8080/",
          "height": 80
        },
        "id": "q19-onk0avbn",
        "outputId": "8f915904-a18c-4253-c0ee-1c0a2f5e197c"
      },
      "source": [
        "df[df['a']==1]"
      ],
      "execution_count": null,
      "outputs": [
        {
          "output_type": "execute_result",
          "data": {
            "text/html": [
              "<div>\n",
              "<style scoped>\n",
              "    .dataframe tbody tr th:only-of-type {\n",
              "        vertical-align: middle;\n",
              "    }\n",
              "\n",
              "    .dataframe tbody tr th {\n",
              "        vertical-align: top;\n",
              "    }\n",
              "\n",
              "    .dataframe thead th {\n",
              "        text-align: right;\n",
              "    }\n",
              "</style>\n",
              "<table border=\"1\" class=\"dataframe\">\n",
              "  <thead>\n",
              "    <tr style=\"text-align: right;\">\n",
              "      <th></th>\n",
              "      <th>a</th>\n",
              "      <th>b</th>\n",
              "    </tr>\n",
              "  </thead>\n",
              "  <tbody>\n",
              "    <tr>\n",
              "      <th>0</th>\n",
              "      <td>1</td>\n",
              "      <td>1</td>\n",
              "    </tr>\n",
              "  </tbody>\n",
              "</table>\n",
              "</div>"
            ],
            "text/plain": [
              "   a  b\n",
              "0  1  1"
            ]
          },
          "metadata": {
            "tags": []
          },
          "execution_count": 18
        }
      ]
    },
    {
      "cell_type": "code",
      "metadata": {
        "colab": {
          "base_uri": "https://localhost:8080/",
          "height": 204
        },
        "id": "AedbHZEFaN8V",
        "outputId": "361d77c1-399f-4914-c02c-5c99cbd74df4"
      },
      "source": [
        "#조건식의 결과가 False일 때, where 메서드는 기본값으로 NaB값을 넣고 DataFrame을 출력하지만,\n",
        "df.where(df['a']==1)"
      ],
      "execution_count": null,
      "outputs": [
        {
          "output_type": "execute_result",
          "data": {
            "text/html": [
              "<div>\n",
              "<style scoped>\n",
              "    .dataframe tbody tr th:only-of-type {\n",
              "        vertical-align: middle;\n",
              "    }\n",
              "\n",
              "    .dataframe tbody tr th {\n",
              "        vertical-align: top;\n",
              "    }\n",
              "\n",
              "    .dataframe thead th {\n",
              "        text-align: right;\n",
              "    }\n",
              "</style>\n",
              "<table border=\"1\" class=\"dataframe\">\n",
              "  <thead>\n",
              "    <tr style=\"text-align: right;\">\n",
              "      <th></th>\n",
              "      <th>a</th>\n",
              "      <th>b</th>\n",
              "    </tr>\n",
              "  </thead>\n",
              "  <tbody>\n",
              "    <tr>\n",
              "      <th>0</th>\n",
              "      <td>1.0</td>\n",
              "      <td>1.0</td>\n",
              "    </tr>\n",
              "    <tr>\n",
              "      <th>1</th>\n",
              "      <td>NaN</td>\n",
              "      <td>NaN</td>\n",
              "    </tr>\n",
              "    <tr>\n",
              "      <th>2</th>\n",
              "      <td>NaN</td>\n",
              "      <td>NaN</td>\n",
              "    </tr>\n",
              "    <tr>\n",
              "      <th>3</th>\n",
              "      <td>NaN</td>\n",
              "      <td>NaN</td>\n",
              "    </tr>\n",
              "    <tr>\n",
              "      <th>4</th>\n",
              "      <td>NaN</td>\n",
              "      <td>NaN</td>\n",
              "    </tr>\n",
              "  </tbody>\n",
              "</table>\n",
              "</div>"
            ],
            "text/plain": [
              "     a    b\n",
              "0  1.0  1.0\n",
              "1  NaN  NaN\n",
              "2  NaN  NaN\n",
              "3  NaN  NaN\n",
              "4  NaN  NaN"
            ]
          },
          "metadata": {
            "tags": []
          },
          "execution_count": 19
        }
      ]
    },
    {
      "cell_type": "code",
      "metadata": {
        "colab": {
          "base_uri": "https://localhost:8080/",
          "height": 204
        },
        "id": "UqFVQ0mWcTva",
        "outputId": "a335adcb-f347-4c04-dfdf-63a3351c08e3"
      },
      "source": [
        "# other 변수에 값을 입력함으로써 사용자가 원하는 값이 넣어진 DataFrame을 출력할 수 있다.\n",
        "df.where(df['a']==1,other='other')"
      ],
      "execution_count": null,
      "outputs": [
        {
          "output_type": "execute_result",
          "data": {
            "text/html": [
              "<div>\n",
              "<style scoped>\n",
              "    .dataframe tbody tr th:only-of-type {\n",
              "        vertical-align: middle;\n",
              "    }\n",
              "\n",
              "    .dataframe tbody tr th {\n",
              "        vertical-align: top;\n",
              "    }\n",
              "\n",
              "    .dataframe thead th {\n",
              "        text-align: right;\n",
              "    }\n",
              "</style>\n",
              "<table border=\"1\" class=\"dataframe\">\n",
              "  <thead>\n",
              "    <tr style=\"text-align: right;\">\n",
              "      <th></th>\n",
              "      <th>a</th>\n",
              "      <th>b</th>\n",
              "    </tr>\n",
              "  </thead>\n",
              "  <tbody>\n",
              "    <tr>\n",
              "      <th>0</th>\n",
              "      <td>1</td>\n",
              "      <td>1</td>\n",
              "    </tr>\n",
              "    <tr>\n",
              "      <th>1</th>\n",
              "      <td>other</td>\n",
              "      <td>other</td>\n",
              "    </tr>\n",
              "    <tr>\n",
              "      <th>2</th>\n",
              "      <td>other</td>\n",
              "      <td>other</td>\n",
              "    </tr>\n",
              "    <tr>\n",
              "      <th>3</th>\n",
              "      <td>other</td>\n",
              "      <td>other</td>\n",
              "    </tr>\n",
              "    <tr>\n",
              "      <th>4</th>\n",
              "      <td>other</td>\n",
              "      <td>other</td>\n",
              "    </tr>\n",
              "  </tbody>\n",
              "</table>\n",
              "</div>"
            ],
            "text/plain": [
              "       a      b\n",
              "0      1      1\n",
              "1  other  other\n",
              "2  other  other\n",
              "3  other  other\n",
              "4  other  other"
            ]
          },
          "metadata": {
            "tags": []
          },
          "execution_count": 21
        }
      ]
    }
  ]
}