{
  "nbformat": 4,
  "nbformat_minor": 0,
  "metadata": {
    "colab": {
      "name": "Tech_01th.ipynb",
      "provenance": [],
      "authorship_tag": "ABX9TyM4OOCdsEMGyLkEnE4FlVPx"
    },
    "kernelspec": {
      "name": "python3",
      "display_name": "Python 3"
    }
  },
  "cells": [
    {
      "cell_type": "markdown",
      "metadata": {
        "id": "rTcxxN8mP2EA"
      },
      "source": [
        "Jensen Shannon Divergence + AgglomerativeClustering"
      ]
    },
    {
      "cell_type": "code",
      "metadata": {
        "id": "epphucprP-1O"
      },
      "source": [
        "def JensenShannon_similarity(df,time_list,st_list,cal_col):\r\n",
        "      '''\r\n",
        "      [함수 사용법]\r\n",
        "        X축에 들어갈 변수를 input_list 인덱싱 0번 자리(맨앞)에 둘 것\r\n",
        "        그 뒤로 기준을 잡고 싶은 변수들을 차례로 넣어 주면 됩니다.\r\n",
        "        from scipy.spatial import distance 꼭 할것!\r\n",
        "      '''\r\n",
        "\r\n",
        "\r\n",
        "      make_amt= df.groupby(time_list+st_list)[cal_col].sum().reset_index()\r\n",
        "\r\n",
        "      '''pivot 만들기'''\r\n",
        "      amt_sum = make_amt.groupby(st_list)[cal_col].sum().reset_index(name='cal_col_sum')\r\n",
        "      amt_sum = amt_sum[amt_sum['cal_col_sum'] != 0] #JSD를 구할때 0이 있으면 문제가 생김\r\n",
        "      make_amt = make_amt.merge(amt_sum,on=st_list,how='left')\r\n",
        "      make_amt['cal_col_prob'] = make_amt[cal_col]/make_amt['cal_col_sum']\r\n",
        "\r\n",
        "      # pivot_table을 활용하여 long to wide 작업 실시\r\n",
        "      amt_pivot= pd.pivot_table(make_amt,\r\n",
        "                                index=st_list,\r\n",
        "                                columns=time_list,\r\n",
        "                                values='cal_col_prob').reset_index()\r\n",
        "      amt_pivot.fillna(0,inplace=True)\r\n",
        "\r\n",
        "      #피벗된 연도별 amt를 사용해 고객간의 유사도를 구해보자.\r\n",
        "      amt_array=np.array(amt_pivot.drop(st_list,axis=1))\r\n",
        "\r\n",
        "      js_similarity =[]\r\n",
        "      for row_r in range(amt_array.shape[0]):       \r\n",
        "        dt_list=[]\r\n",
        "        for row_c in range(amt_array.shape[0]):\r\n",
        "            #dt= js_divergence(amt_pivot.iloc[row_r,3:].values,amt_pivot.iloc[row_c,3:].values)\r\n",
        "            '''\r\n",
        "            js_divergence(만든 함수)로 하면 0값을 계산을 못함. \r\n",
        "            sqrt(js_divergence)인 distance.jensenshannon 함수 사용\r\n",
        "            '''\r\n",
        "            dt = distance.jensenshannon(amt_array[row_r,:],amt_array[row_c,:],2.0)\r\n",
        "            dt_list.append(dt)\r\n",
        "        js_similarity.append(dt_list)\r\n",
        "\r\n",
        "      js_frame =pd.DataFrame(np.array(js_similarity))\r\n",
        "      js_similarity = pd.concat([amt_pivot,js_frame],axis=1)\r\n",
        "\r\n",
        "      return amt_sum[st_list],js_similarity"
      ],
      "execution_count": null,
      "outputs": []
    },
    {
      "cell_type": "code",
      "metadata": {
        "id": "MMig2HwcQBym"
      },
      "source": [
        "def make_clustering(gp_df,time_list,st_list,cal_col,cluster_name,split_num=2):\r\n",
        "    st_series,df = JensenShannon_similarity(gp_df,time_list,st_list,cal_col)\r\n",
        "    df_s = df.iloc[:,-df.shape[0]:] # 클러스터링용 dataframe 생성\r\n",
        "    df_s.fillna(0,inplace=True)\r\n",
        "\r\n",
        "    #클러스터링\r\n",
        "    clustering = AgglomerativeClustering(n_clusters=int(df_s.shape[0]/split_num),\r\n",
        "                                      affinity='precomputed',\r\n",
        "                                      linkage='average')\r\n",
        "    clustering.fit(df_s)\r\n",
        "    \r\n",
        "    return_df = pd.DataFrame(st_series)         #pd.DataFrame(DataFrame) 오류X\r\n",
        "\r\n",
        "    print(return_df.shape,len(clustering.labels_))\r\n",
        "\r\n",
        "    return_df[cluster_name] = clustering.labels_\r\n",
        "    return return_df"
      ],
      "execution_count": null,
      "outputs": []
    }
  ]
}